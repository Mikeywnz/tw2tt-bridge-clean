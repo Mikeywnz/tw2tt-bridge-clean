{
 "cells": [
  {
   "cell_type": "code",
   "execution_count": null,
   "id": "9a9223d8",
   "metadata": {},
   "outputs": [],
   "source": [
    "import requests\n",
    "\n",
    "# To get this to run, open up a terminal and run the following commands:\n",
    "\n",
    "# export PATH=/Users/mrj/Library/Python/3.9/bin:$PATH\n",
    "# export PYTHONPATH=/Users/mrj/Library/Python/3.9\n",
    "# gunicorn app:app -k uvicorn.workers.UvicornWorker --bind 0.0.0.0:10000"
   ]
  },
  {
   "cell_type": "code",
   "execution_count": 36,
   "id": "828fe779",
   "metadata": {},
   "outputs": [
    {
     "name": "stdout",
     "output_type": "stream",
     "text": [
      "200\n",
      "{'status': 'success', 'message': 'Trade processed'}\n"
     ]
    }
   ],
   "source": [
    "url = \"http://localhost:10000/webhook\"\n",
    "payload = {\n",
    "    \"symbol\": \"MGC2510\",\n",
    "    \"action\": \"SELL\",\n",
    "    \"quantity\": 1\n",
    "}\n",
    "headers = {\n",
    "    \"Content-Type\": \"application/json\"\n",
    "}\n",
    "\n",
    "response = requests.post(url, json=payload, headers=headers)\n",
    "print(response.status_code)\n",
    "print(response.json())"
   ]
  },
  {
   "cell_type": "code",
   "execution_count": 38,
   "id": "f683e940",
   "metadata": {},
   "outputs": [
    {
     "name": "stdout",
     "output_type": "stream",
     "text": [
      "200\n",
      "{'status': 'error', 'message': 'Trade execution failed', 'detail': {'status': 'GHOST_TRADE', 'order_id': '40052521224897536', 'trade_type': 'LONG_ENTRY', 'symbol': 'MGC2510', 'action': 'BUY', 'quantity': 1, 'filled_price': 0.0, 'filled_quantity': 1, 'transaction_time': ''}}\n"
     ]
    }
   ],
   "source": [
    "url = \"http://localhost:10000/webhook\"\n",
    "payload = {\n",
    "    \"symbol\": \"MGC2510\",\n",
    "    \"action\": \"BUY\",\n",
    "    \"quantity\": 1\n",
    "}\n",
    "headers = {\n",
    "    \"Content-Type\": \"application/json\"\n",
    "}\n",
    "\n",
    "response = requests.post(url, json=payload, headers=headers)\n",
    "print(response.status_code)\n",
    "print(response.json())"
   ]
  },
  {
   "cell_type": "code",
   "execution_count": null,
   "id": "f554cdfa",
   "metadata": {},
   "outputs": [
    {
     "name": "stdout",
     "output_type": "stream",
     "text": [
      "entering foobar\n",
      "entering qux\n",
      "entering bar\n"
     ]
    }
   ],
   "source": [
    "def foobar(mystring):\n",
    "    print(f'entering foobar: {mystring}')\n",
    "    qux()\n",
    "\n",
    "def qux():\n",
    "    print('entering qux')\n",
    "    bar()\n",
    "\n",
    "def bar():\n",
    "    print('entering bar')\n",
    "\n",
    "def baz():\n",
    "    print('baz is never called')\n",
    "\n",
    "foobar()\n"
   ]
  },
  {
   "cell_type": "code",
   "execution_count": null,
   "id": "c7f27d99",
   "metadata": {},
   "outputs": [],
   "source": []
  }
 ],
 "metadata": {
  "kernelspec": {
   "display_name": "Python 3",
   "language": "python",
   "name": "python3"
  },
  "language_info": {
   "codemirror_mode": {
    "name": "ipython",
    "version": 3
   },
   "file_extension": ".py",
   "mimetype": "text/x-python",
   "name": "python",
   "nbconvert_exporter": "python",
   "pygments_lexer": "ipython3",
   "version": "3.9.6"
  }
 },
 "nbformat": 4,
 "nbformat_minor": 5
}
