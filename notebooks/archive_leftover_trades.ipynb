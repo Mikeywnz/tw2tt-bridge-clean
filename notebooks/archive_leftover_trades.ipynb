{
 "cells": [
  {
   "cell_type": "code",
   "execution_count": null,
   "id": "1c29e918",
   "metadata": {},
   "outputs": [
    {
     "name": "stderr",
     "output_type": "stream",
     "text": [
      "/Users/mrj/Library/Python/3.9/lib/python/site-packages/urllib3/__init__.py:35: NotOpenSSLWarning: urllib3 v2 only supports OpenSSL 1.1.1+, currently the 'ssl' module is compiled with 'LibreSSL 2.8.3'. See: https://github.com/urllib3/urllib3/issues/3020\n",
      "  warnings.warn(\n"
     ]
    },
    {
     "ename": "FileNotFoundError",
     "evalue": "[Errno 2] No such file or directory: 'firebase_key.json'",
     "output_type": "error",
     "traceback": [
      "\u001b[0;31m---------------------------------------------------------------------------\u001b[0m",
      "\u001b[0;31mFileNotFoundError\u001b[0m                         Traceback (most recent call last)",
      "Cell \u001b[0;32mIn[1], line 8\u001b[0m\n\u001b[1;32m      6\u001b[0m firebase_key_path \u001b[38;5;241m=\u001b[39m \u001b[38;5;124m\"\u001b[39m\u001b[38;5;124m/etc/secrets/firebase_key.json\u001b[39m\u001b[38;5;124m\"\u001b[39m \u001b[38;5;28;01mif\u001b[39;00m os\u001b[38;5;241m.\u001b[39mpath\u001b[38;5;241m.\u001b[39mexists(\u001b[38;5;124m\"\u001b[39m\u001b[38;5;124m/etc/secrets/firebase_key.json\u001b[39m\u001b[38;5;124m\"\u001b[39m) \u001b[38;5;28;01melse\u001b[39;00m \u001b[38;5;124m\"\u001b[39m\u001b[38;5;124mfirebase_key.json\u001b[39m\u001b[38;5;124m\"\u001b[39m\n\u001b[1;32m      7\u001b[0m \u001b[38;5;28;01mif\u001b[39;00m \u001b[38;5;129;01mnot\u001b[39;00m firebase_admin\u001b[38;5;241m.\u001b[39m_apps:\n\u001b[0;32m----> 8\u001b[0m     cred \u001b[38;5;241m=\u001b[39m \u001b[43mcredentials\u001b[49m\u001b[38;5;241;43m.\u001b[39;49m\u001b[43mCertificate\u001b[49m\u001b[43m(\u001b[49m\u001b[43mfirebase_key_path\u001b[49m\u001b[43m)\u001b[49m\n\u001b[1;32m      9\u001b[0m     firebase_admin\u001b[38;5;241m.\u001b[39minitialize_app(cred, {\n\u001b[1;32m     10\u001b[0m         \u001b[38;5;124m'\u001b[39m\u001b[38;5;124mdatabaseURL\u001b[39m\u001b[38;5;124m'\u001b[39m: \u001b[38;5;124m\"\u001b[39m\u001b[38;5;124mhttps://tw2tt-firebase-default-rtdb.asia-southeast1.firebasedatabase.app\u001b[39m\u001b[38;5;124m\"\u001b[39m\n\u001b[1;32m     11\u001b[0m     })\n\u001b[1;32m     13\u001b[0m \u001b[38;5;28;01mdef\u001b[39;00m\u001b[38;5;250m \u001b[39m\u001b[38;5;21marchive_and_delete_leftover_trades\u001b[39m(symbol):\n",
      "File \u001b[0;32m~/Library/Python/3.9/lib/python/site-packages/firebase_admin/credentials.py:97\u001b[0m, in \u001b[0;36mCertificate.__init__\u001b[0;34m(self, cert)\u001b[0m\n\u001b[1;32m     95\u001b[0m \u001b[38;5;28msuper\u001b[39m()\u001b[38;5;241m.\u001b[39m\u001b[38;5;21m__init__\u001b[39m()\n\u001b[1;32m     96\u001b[0m \u001b[38;5;28;01mif\u001b[39;00m _is_file_path(cert):\n\u001b[0;32m---> 97\u001b[0m     \u001b[38;5;28;01mwith\u001b[39;00m \u001b[38;5;28;43mopen\u001b[39;49m\u001b[43m(\u001b[49m\u001b[43mcert\u001b[49m\u001b[43m,\u001b[49m\u001b[43m \u001b[49m\u001b[43mencoding\u001b[49m\u001b[38;5;241;43m=\u001b[39;49m\u001b[38;5;124;43m'\u001b[39;49m\u001b[38;5;124;43mutf-8\u001b[39;49m\u001b[38;5;124;43m'\u001b[39;49m\u001b[43m)\u001b[49m \u001b[38;5;28;01mas\u001b[39;00m json_file:\n\u001b[1;32m     98\u001b[0m         json_data \u001b[38;5;241m=\u001b[39m json\u001b[38;5;241m.\u001b[39mload(json_file)\n\u001b[1;32m     99\u001b[0m \u001b[38;5;28;01melif\u001b[39;00m \u001b[38;5;28misinstance\u001b[39m(cert, \u001b[38;5;28mdict\u001b[39m):\n",
      "\u001b[0;31mFileNotFoundError\u001b[0m: [Errno 2] No such file or directory: 'firebase_key.json'"
     ]
    }
   ],
   "source": [
    "import firebase_admin\n",
    "from firebase_admin import credentials, db\n",
    "import os\n",
    "\n",
    "# Initialize Firebase app if not already\n",
    "firebase_key_path = \"/etc/secrets/firebase_key.json\" if os.path.exists(\"/etc/secrets/firebase_key.json\") else \"../firebase_key.json\"\n",
    "if not firebase_admin._apps:\n",
    "    cred = credentials.Certificate(firebase_key_path)\n",
    "    firebase_admin.initialize_app(cred, {\n",
    "        'databaseURL': \"https://tw2tt-firebase-default-rtdb.asia-southeast1.firebasedatabase.app\"\n",
    "    })\n",
    "\n",
    "def archive_and_delete_leftover_trades(symbol):\n",
    "    open_ref = db.reference(f\"/open_active_trades/{symbol}\")\n",
    "    archived_ref = db.reference(\"/archived_trades_log\")\n",
    "\n",
    "    open_trades = open_ref.get() or {}\n",
    "    if not open_trades:\n",
    "        print(f\"No open trades found for {symbol}\")\n",
    "        return\n",
    "\n",
    "    for trade_id, trade_data in open_trades.items():\n",
    "        try:\n",
    "            archived_ref.child(trade_id).set(trade_data)\n",
    "            print(f\"Archived trade {trade_id}\")\n",
    "            open_ref.child(trade_id).delete()\n",
    "            print(f\"Deleted trade {trade_id} from open_active_trades\")\n",
    "        except Exception as e:\n",
    "            print(f\"Error processing trade {trade_id}: {e}\")\n",
    "\n",
    "symbol = \"MGC2510\"\n",
    "archive_and_delete_leftover_trades(symbol)"
   ]
  },
  {
   "cell_type": "code",
   "execution_count": null,
   "id": "f4d7510a",
   "metadata": {},
   "outputs": [],
   "source": []
  }
 ],
 "metadata": {
  "kernelspec": {
   "display_name": "Python 3",
   "language": "python",
   "name": "python3"
  },
  "language_info": {
   "codemirror_mode": {
    "name": "ipython",
    "version": 3
   },
   "file_extension": ".py",
   "mimetype": "text/x-python",
   "name": "python",
   "nbconvert_exporter": "python",
   "pygments_lexer": "ipython3",
   "version": "3.9.6"
  }
 },
 "nbformat": 4,
 "nbformat_minor": 5
}
